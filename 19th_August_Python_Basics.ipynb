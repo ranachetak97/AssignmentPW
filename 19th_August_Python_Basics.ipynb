{
 "cells": [
  {
   "cell_type": "markdown",
   "id": "9007584c-fe95-4557-a2c0-23d147c10486",
   "metadata": {},
   "source": [
    "1. Declare two variables, `x` and `y`, and assign them integer values. Swap the\n",
    "values of these variables without using any temporary variable."
   ]
  },
  {
   "cell_type": "code",
   "execution_count": 11,
   "id": "48aa3047-e884-467b-b306-329d0da4ca48",
   "metadata": {},
   "outputs": [
    {
     "name": "stdout",
     "output_type": "stream",
     "text": [
      "The swap value of x is 10 and y is 20\n"
     ]
    }
   ],
   "source": [
    "def vari(x,y):\n",
    "    x=x+y   #x=20 y=10  x=30\n",
    "    y=x-y   #30-10   y=20\n",
    "    x=x-y   #30-20  x=10\n",
    "    return f\"The swap value of x is {x} and y is {y}\"\n",
    "    \n",
    "\n",
    "print(vari(20,10))"
   ]
  },
  {
   "cell_type": "markdown",
   "id": "09cf85e7-3825-4383-9163-25b357a099fa",
   "metadata": {},
   "source": [
    "2. Create a program that calculates the area of a rectangle. Take the length and width as inputs from the user and store them in variables. Calculate and display the area."
   ]
  },
  {
   "cell_type": "code",
   "execution_count": 19,
   "id": "aa30f9a2-0da0-4c2a-9282-04f490127590",
   "metadata": {},
   "outputs": [
    {
     "name": "stdin",
     "output_type": "stream",
     "text": [
      "Enter your length 10\n",
      "Enter your breadth 20\n"
     ]
    },
    {
     "name": "stdout",
     "output_type": "stream",
     "text": [
      "Area of rectangele is: 200\n"
     ]
    }
   ],
   "source": [
    "def area(l, b):\n",
    "    return l * b  # Return the calculated area\n",
    "\n",
    "# Input length and breadth from user\n",
    "l= int(input(\"Enter your length\"))\n",
    "b=int(input(\"Enter your breadth\"))\n",
    "\n",
    "# Call the function and print the result\n",
    "print(f\"Area of rectangele is: {area(l, b)}\")\n"
   ]
  },
  {
   "cell_type": "markdown",
   "id": "fbdceab0-0417-4416-ab28-4860c9cf5e5d",
   "metadata": {},
   "source": [
    "3. Write a Python program that converts temperatures from Celsius to Fahrenheit. Take the temperature in Celsius as input, store it in a variable, convert it to Fahrenheit, and display the result."
   ]
  },
  {
   "cell_type": "code",
   "execution_count": 18,
   "id": "846daae1-4cf5-4bee-bd2f-2f2fc663867f",
   "metadata": {},
   "outputs": [],
   "source": [
    "# Formula  Fahrenheit (°F) = (Temperature in degrees Celsius (°C) * 9/5) + 32."
   ]
  },
  {
   "cell_type": "code",
   "execution_count": 22,
   "id": "22543bd1-a5e4-4a3a-b5f1-4707e5b79fa3",
   "metadata": {},
   "outputs": [
    {
     "name": "stdin",
     "output_type": "stream",
     "text": [
      "Enter the Celsius Value:  20.9\n"
     ]
    },
    {
     "name": "stdout",
     "output_type": "stream",
     "text": [
      "20.9 Celsius is equal to 69.62 Fahrenheit\n"
     ]
    }
   ],
   "source": [
    "celsius=float(input(\"Enter the Celsius Value: \"))\n",
    "\n",
    "# Convert Celsius to Fahrenheit\n",
    "fahrenheit = (celsius * 9/5) + 32\n",
    "\n",
    "# Display the result\n",
    "print(f\"{celsius} Celsius is equal to {fahrenheit} Fahrenheit\")\n"
   ]
  },
  {
   "cell_type": "markdown",
   "id": "b4997aa5-6b41-4185-bf54-5849980f0081",
   "metadata": {},
   "source": [
    "#String method problem"
   ]
  },
  {
   "cell_type": "markdown",
   "id": "8501cef4-ef14-4d17-be7b-0abdd44bfbb7",
   "metadata": {},
   "source": [
    "1. Write a Python program that takes a string as input and prints the length of the string."
   ]
  },
  {
   "cell_type": "code",
   "execution_count": 24,
   "id": "e5a6c14e-9e2b-438f-9623-e14cd983f93e",
   "metadata": {},
   "outputs": [
    {
     "name": "stdin",
     "output_type": "stream",
     "text": [
      "Enter a string:  Narendra Mane\n"
     ]
    },
    {
     "name": "stdout",
     "output_type": "stream",
     "text": [
      "The length of the string is: 13\n"
     ]
    }
   ],
   "source": [
    "# Take input string from the user\n",
    "input_string = input(\"Enter a string: \")\n",
    "\n",
    "# Calculate and print the length of the string\n",
    "string_length = len(input_string)\n",
    "print(f\"The length of the string is: {string_length}\")\n"
   ]
  },
  {
   "cell_type": "markdown",
   "id": "74692019-cf46-4fdf-afd4-40ae6d6ca253",
   "metadata": {},
   "source": [
    "2.Create a program that takes a sentence from the user and counts the number of vowels (a, e, i, o, u) in the string."
   ]
  },
  {
   "cell_type": "code",
   "execution_count": 29,
   "id": "e86db867-8807-44db-93eb-a84edec181f0",
   "metadata": {},
   "outputs": [
    {
     "name": "stdin",
     "output_type": "stream",
     "text": [
      "Enter Your Sentence My name is Omkar Gorule\n"
     ]
    },
    {
     "name": "stdout",
     "output_type": "stream",
     "text": [
      "Number of vowels in the sentence: 8\n"
     ]
    }
   ],
   "source": [
    "user=input(\"Enter Your Sentence\")\n",
    "vowels_count=0\n",
    "vowels=[\"a\",\"e\",\"i\",\"o\",\"u\",\"A\",\"E\",\"I\",\"O\",\"U\"]\n",
    "# Count the vowels in the sentence\n",
    "for char in user:\n",
    "    if char in vowels:\n",
    "        vowels_count += 1\n",
    "\n",
    "# Display the result\n",
    "print(f\"Number of vowels in the sentence: {vowels_count}\")"
   ]
  },
  {
   "cell_type": "markdown",
   "id": "012b0ff5-8cdb-4678-8801-ed45245b24e9",
   "metadata": {},
   "source": [
    "3. Given a string, reverse the order of characters using string slicing and print the reversed string."
   ]
  },
  {
   "cell_type": "code",
   "execution_count": 30,
   "id": "3fb83c6a-b14d-4c82-9118-693e441f5ee9",
   "metadata": {},
   "outputs": [
    {
     "name": "stdin",
     "output_type": "stream",
     "text": [
      "Enter your name Narendra\n"
     ]
    },
    {
     "name": "stdout",
     "output_type": "stream",
     "text": [
      "ardneraN\n"
     ]
    }
   ],
   "source": [
    "user=input(\"Enter your name\")\n",
    "reverse=user[::-1]\n",
    "print(f\"The Reversed String is: {reverse})"
   ]
  },
  {
   "cell_type": "code",
   "execution_count": 33,
   "id": "245798af-520f-4e6c-87c9-1ecd5db7bfb1",
   "metadata": {},
   "outputs": [
    {
     "name": "stdin",
     "output_type": "stream",
     "text": [
      "Enter the input madam\n"
     ]
    },
    {
     "name": "stdout",
     "output_type": "stream",
     "text": [
      "It is palindrome\n"
     ]
    }
   ],
   "source": [
    "user=input(\"Enter the input\")\n",
    "if (user==user[::-1]):\n",
    "    print(\"It is palindrome\")\n",
    "else:\n",
    "    print(\"Not Palindrome\")"
   ]
  },
  {
   "cell_type": "markdown",
   "id": "6efe694f-ed50-47b6-b30f-aed1e7560eed",
   "metadata": {},
   "source": [
    "5. Create a program that takes a string as input and removes all the spaces from it. Print the modified string without spaces."
   ]
  },
  {
   "cell_type": "code",
   "execution_count": 34,
   "id": "00cca08a-57ff-45df-8ed4-06867d508024",
   "metadata": {},
   "outputs": [
    {
     "name": "stdin",
     "output_type": "stream",
     "text": [
      "Enter a string:  my name is khan\n"
     ]
    },
    {
     "name": "stdout",
     "output_type": "stream",
     "text": [
      "Modified string: mynameiskhan\n"
     ]
    }
   ],
   "source": [
    "# Take input string from the user\n",
    "user = input(\"Enter a string: \")\n",
    "\n",
    "# Remove all spaces using str.replace()\n",
    "updated = user.replace(\" \", \"\")\n",
    "\n",
    "# Print the modified string\n",
    "print(f\"Modified string: {updated}\")\n"
   ]
  },
  {
   "cell_type": "code",
   "execution_count": null,
   "id": "8d42ab23-31dd-4d36-96d2-8c7842f5d5d0",
   "metadata": {},
   "outputs": [],
   "source": []
  }
 ],
 "metadata": {
  "kernelspec": {
   "display_name": "Python 3 (ipykernel)",
   "language": "python",
   "name": "python3"
  },
  "language_info": {
   "codemirror_mode": {
    "name": "ipython",
    "version": 3
   },
   "file_extension": ".py",
   "mimetype": "text/x-python",
   "name": "python",
   "nbconvert_exporter": "python",
   "pygments_lexer": "ipython3",
   "version": "3.10.8"
  }
 },
 "nbformat": 4,
 "nbformat_minor": 5
}
